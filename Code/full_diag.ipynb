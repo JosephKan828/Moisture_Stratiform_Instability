{
 "cells": [
  {
   "cell_type": "markdown",
   "id": "9da557f1-379d-43fc-b0ce-e299c299cc80",
   "metadata": {},
   "source": [
    "## Model Diagnose"
   ]
  },
  {
   "cell_type": "markdown",
   "id": "88dca3d7-be00-4663-8a63-3675ebdb44d4",
   "metadata": {},
   "source": [
    "### Use Package\n"
   ]
  },
  {
   "cell_type": "code",
   "execution_count": 1,
   "id": "3a88bae6-f9ac-4453-b20e-11e8b335d0bc",
   "metadata": {
    "execution": {
     "iopub.execute_input": "2025-08-27T09:10:40.173",
     "iopub.status.busy": "2025-08-27T09:10:39.877",
     "iopub.status.idle": "2025-08-27T09:10:44.672",
     "shell.execute_reply": "2025-08-27T09:10:44.626"
    }
   },
   "outputs": [
    {
     "name": "stderr",
     "output_type": "stream",
     "text": [
      "\u001b[32m\u001b[1m  Activating\u001b[22m\u001b[39m project at `/work/b11209013/external/JuliaENV/atmo`\n"
     ]
    }
   ],
   "source": [
    "using Pkg; Pkg.activate(\"/work/b11209013/external/JuliaENV/atmo\");\n",
    "\n",
    "using HDF5;\n",
    "using Plots; gr();\n",
    "using LinearAlgebra, Statistics;\n",
    "using LazyGrids;"
   ]
  },
  {
   "cell_type": "markdown",
   "id": "f0a2acbf-350d-4b10-9b26-823d2427ecef",
   "metadata": {
    "jp-MarkdownHeadingCollapsed": true
   },
   "source": [
    "### Parameter Table"
   ]
  },
  {
   "cell_type": "code",
   "execution_count": 2,
   "id": "2e6b143a-4212-40f6-bcc8-d331ab34dcac",
   "metadata": {
    "execution": {
     "iopub.execute_input": "2025-08-27T09:10:44.765",
     "iopub.status.busy": "2025-08-27T09:10:44.673",
     "iopub.status.idle": "2025-08-27T09:10:44.777",
     "shell.execute_reply": "2025-08-27T09:10:44.777"
    }
   },
   "outputs": [],
   "source": [
    "struct ModelParams\n",
    "    a1::Float64 \n",
    "    a2::Float64\n",
    "    b1::Float64 \n",
    "    b2::Float64    \n",
    "    c1::Float64 \n",
    "    c2::Float64\n",
    "    d1::Float64\n",
    "    d2::Float64\n",
    "    m1::Float64 \n",
    "    m2::Float64\n",
    "    r0::Float64 \n",
    "    rq::Float64\n",
    "    F ::Float64 \n",
    "    f ::Float64\n",
    "    τL::Float64 \n",
    "    ϵ ::Float64\n",
    "    Γ ::Float64 \n",
    "    Rd::Float64\n",
    "    Cp::Float64 \n",
    "    g ::Float64    \n",
    "end\n",
    "\n",
    "param = ModelParams(1.4, 0.0, 1.0, 2.0, 1.0, 0.5, 1.1, -1.0, 0.3, 1.0, 1.0, 0.7, 4.0, 0.5, 1/12, 0.1, 6.5/1000.0, 287.5, 1004.5, 9.81)\n",
    "A     = 1.0 - 2.0*param.f + (param.b2-param.b1)/param.F;\n",
    "B     = 1.0 + (param.b2+param.b1)/param.F - A*param.r0;"
   ]
  },
  {
   "cell_type": "markdown",
   "id": "225a311e-280e-4dea-8f3b-ad027fb12242",
   "metadata": {},
   "source": [
    "### Functions"
   ]
  },
  {
   "cell_type": "code",
   "execution_count": 3,
   "id": "40219516-7c0d-4a57-8968-1fbdb478411d",
   "metadata": {
    "execution": {
     "iopub.execute_input": "2025-08-27T09:10:44.777",
     "iopub.status.busy": "2025-08-27T09:10:44.777",
     "iopub.status.idle": "2025-08-27T09:10:45.070",
     "shell.execute_reply": "2025-08-27T09:10:45.070"
    }
   },
   "outputs": [
    {
     "data": {
      "text/plain": [
       "nonmodal (generic function with 1 method)"
      ]
     },
     "execution_count": 3,
     "metadata": {},
     "output_type": "execute_result"
    }
   ],
   "source": [
    "function coeff_matrix(\n",
    "        kn::Float64;\n",
    "        ϵ=param.ϵ, c1=param.c1, c2=param.c2,\n",
    "        rq=param.rq, r0=param.r0, a1=param.a1,\n",
    "        a2=param.a2, d1=param.d1, d2=param.d2,\n",
    "        τL=param.τL, f=param.f, A=A, B=B\n",
    ")\n",
    "    α ::ComplexF64 = 1.5*rq*(d1-d2);\n",
    "    β ::ComplexF64 = -rq*(d1-d2);\n",
    "    γ ::ComplexF64 = -(d1*(1+r0)+d2*(1-r0));\n",
    "    mat :: Array{ComplexF64}= [\n",
    "        -ϵ 0.0 (kn*c1)^2.0 0.0 0.0 0.0;\n",
    "        0.0 -ϵ 0.0 (kn*c2)^2.0 0.0 0.0;\n",
    "        -1.0 0.0 -1.5*rq 0.0 rq 1+r0;\n",
    "        0.0 -1.0 1.5*rq 0.0 -rq 1-r0;\n",
    "        a1 a2 α 0.0 β γ;\n",
    "        f/B/τL (1-f)/B/τL -1.5*A*rq/B/τL 0.0 A*rq/B/τL -1.0/τL;\n",
    "    ]\n",
    "\n",
    "    return mat\n",
    "end\n",
    "\n",
    "function modal(kn::Float64)\n",
    "    mat :: Array{ComplexF64} = coeff_matrix(kn);\n",
    "\n",
    "    growth_rate :: Array{Float64} = real.(eigvals(mat))\n",
    "\n",
    "    return maximum(growth_rate)\n",
    "end\n",
    "\n",
    "function nonmodal(kn::Float64)\n",
    "    mat :: Matrix{ComplexF64} = coeff_matrix(kn);\n",
    "\n",
    "    unit_vec :: Matrix{ComplexF64} = ones(ComplexF64, 6,1);\n",
    "    sys_mat  :: Matrix{ComplexF64} = exp(mat);\n",
    "    pred_vec :: Matrix{ComplexF64} = exp(mat)*unit_vec;\n",
    "\n",
    "    amp_factor :: Matrix{ComplexF64} = (pred_vec'*pred_vec) * inv(unit_vec'*unit_vec)\n",
    "\n",
    "    return real.(amp_factor[1,1])\n",
    "end"
   ]
  },
  {
   "cell_type": "markdown",
   "id": "7d6ef461-6e63-4114-8b63-8e70eb1b2015",
   "metadata": {},
   "source": [
    "### linear stability test"
   ]
  },
  {
   "cell_type": "code",
   "execution_count": 4,
   "id": "e0a6443d-3984-4967-82b5-77a46faa8944",
   "metadata": {
    "execution": {
     "iopub.execute_input": "2025-08-27T09:10:45.070",
     "iopub.status.busy": "2025-08-27T09:10:45.070",
     "iopub.status.idle": "2025-08-27T09:10:47.514",
     "shell.execute_reply": "2025-08-27T09:10:47.514"
    }
   },
   "outputs": [],
   "source": [
    "λ :: Array{Float64} = collect(540:540:43200)\n",
    "k :: Array{Float64} = @. 2*π*4320.0 / λ;\n",
    "\n",
    "modal_stab    :: Array{Float64} = modal.(k);\n",
    "nonmodal_stab :: Array{Float64} = nonmodal.(k);"
   ]
  },
  {
   "cell_type": "markdown",
   "id": "024414eb-346f-4ed9-a6b0-454e6f375c65",
   "metadata": {},
   "source": [
    "### Save out the HDF5 file"
   ]
  },
  {
   "cell_type": "code",
   "execution_count": 6,
   "id": "43535695-5f42-40c4-8ec9-1db9cf44da58",
   "metadata": {
    "execution": {
     "iopub.execute_input": "2025-08-27T09:11:08.267",
     "iopub.status.busy": "2025-08-27T09:11:08.266",
     "iopub.status.idle": "2025-08-27T09:11:08.613",
     "shell.execute_reply": "2025-08-27T09:11:08.613"
    }
   },
   "outputs": [
    {
     "data": {
      "text/plain": [
       "\"None\""
      ]
     },
     "execution_count": 6,
     "metadata": {},
     "output_type": "execute_result"
    }
   ],
   "source": [
    "h5open(\"/home/b11209013/2025_Research/MSI/File/stability.h5\", \"w\") do f\n",
    "    write(f, \"nonmodal\", nonmodal_stab)\n",
    "    write(f, \"modal\", modal_stab)\n",
    "    write(f, \"kn\", k)\n",
    "\n",
    "    attributes(f[\"nonmodal\"])[\"standard_name\"] = \"nonmodal growth rate\"\n",
    "    attributes(f[\"modal\"])[\"standard_name\"] = \"modal growth rate\"\n",
    "    attributes(f[\"modal\"])[\"units\"] = \"1/day\"\n",
    "    attributes(f[\"kn\"])[\"standard_name\"] = \"angular wavenumber\"\n",
    "    attributes(f[\"kn\"])[\"units\"] = \"None\"\n",
    "end"
   ]
  },
  {
   "cell_type": "code",
   "execution_count": null,
   "id": "40b52541-c514-4423-9c1d-bd3e5eccb272",
   "metadata": {},
   "outputs": [],
   "source": []
  }
 ],
 "metadata": {
  "kernelspec": {
   "display_name": "Julia 1.8.5",
   "language": "julia",
   "name": "julia-1.8"
  },
  "language_info": {
   "file_extension": ".jl",
   "mimetype": "application/julia",
   "name": "julia",
   "version": "1.8.5"
  }
 },
 "nbformat": 4,
 "nbformat_minor": 5
}
