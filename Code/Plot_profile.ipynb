{
 "cells": [
  {
   "cell_type": "markdown",
   "id": "1d46b27f-9bc3-450f-bf09-f4e58b477c5e",
   "metadata": {},
   "source": [
    "## Plot animation of temperature and vertical motion animation"
   ]
  },
  {
   "cell_type": "markdown",
   "id": "694d6e0b-0e0e-4737-ae04-0ff23003ea3d",
   "metadata": {},
   "source": [
    "### import package"
   ]
  },
  {
   "cell_type": "code",
   "execution_count": 1,
   "id": "8d7f360b-0391-49fb-a189-eaa626389c76",
   "metadata": {
    "execution": {
     "iopub.execute_input": "2025-08-28T06:23:12.980579Z",
     "iopub.status.busy": "2025-08-28T06:23:12.980463Z",
     "iopub.status.idle": "2025-08-28T06:23:13.252656Z",
     "shell.execute_reply": "2025-08-28T06:23:13.252465Z",
     "shell.execute_reply.started": "2025-08-28T06:23:12.980569Z"
    }
   },
   "outputs": [],
   "source": [
    "import sys;\n",
    "import h5py;\n",
    "import numpy as np;\n",
    "from matplotlib import pyplot as plt;\n",
    "from matplotlib.animation import FuncAnimation, FFMpegWriter, PillowWriter;\n",
    "\n",
    "sys.path.append(\"/home/b11209013/Package/\")\n",
    "import Plot_Style as ps;"
   ]
  },
  {
   "cell_type": "markdown",
   "id": "fedb1943-3ddf-499d-a71f-3bd4591b23ca",
   "metadata": {},
   "source": [
    "### Functions"
   ]
  },
  {
   "cell_type": "code",
   "execution_count": 2,
   "id": "4a19ab39-4c38-480b-8340-cec2841a126f",
   "metadata": {
    "execution": {
     "iopub.execute_input": "2025-08-28T06:23:13.253091Z",
     "iopub.status.busy": "2025-08-28T06:23:13.252907Z",
     "iopub.status.idle": "2025-08-28T06:23:13.255536Z",
     "shell.execute_reply": "2025-08-28T06:23:13.255357Z",
     "shell.execute_reply.started": "2025-08-28T06:23:13.253082Z"
    }
   },
   "outputs": [],
   "source": [
    "def outer_time_einsum(A, B, out=None, dtype=None):\n",
    "    \"\"\"\n",
    "    A: (x, t), B: (z,)\n",
    "    Returns C: (x, z, t) with C[x,z,t] = A[x,t] * B[z]\n",
    "    \"\"\"\n",
    "    if dtype is None:\n",
    "        dtype = np.result_type(A, B)\n",
    "    x, t = A.shape\n",
    "    z    = B.size\n",
    "    if out is None:\n",
    "        out = np.empty((x, z, t), dtype=dtype, order='C')\n",
    "\n",
    "    A_ = np.ascontiguousarray(A, dtype=dtype)   # contiguous, right dtype\n",
    "    B_ = np.ascontiguousarray(B, dtype=dtype).squeeze()\n",
    "    \n",
    "    # einsum writes directly into `out`\n",
    "    np.einsum('xt,z->xzt', A_, B_, out=out, optimize=True)\n",
    "    return out"
   ]
  },
  {
   "cell_type": "markdown",
   "id": "c85c079f-0117-4852-b4f1-fcf8682463de",
   "metadata": {},
   "source": [
    "### Import files"
   ]
  },
  {
   "cell_type": "code",
   "execution_count": 3,
   "id": "ec2b8360-617e-4b68-b5fb-8450c8f1c094",
   "metadata": {
    "execution": {
     "iopub.execute_input": "2025-08-28T06:23:13.256037Z",
     "iopub.status.busy": "2025-08-28T06:23:13.255953Z",
     "iopub.status.idle": "2025-08-28T06:23:13.296442Z",
     "shell.execute_reply": "2025-08-28T06:23:13.296123Z",
     "shell.execute_reply.started": "2025-08-28T06:23:13.256028Z"
    }
   },
   "outputs": [],
   "source": [
    "fpath = \"/home/b11209013/2025_Research/MSI/File/\"; # file path\n",
    "\n",
    "# load inverse matrix\n",
    "with h5py.File(fpath+\"inv_mat.h5\",\"r\") as f:\n",
    "    inv_mat = np.array(f[\"inverse matrix\"][:]); # shape: (x, k)\n",
    "    k       = np.array(f[\"wavenumber\"][:]);     # shape: (k,)\n",
    "    x       = np.array(f[\"x\"][:]);              # shape: (x,)\n",
    "\n",
    "# load vertical mode\n",
    "with h5py.File(fpath+\"vertical_mode.h5\",\"r\") as f:\n",
    "    G1      = np.array(f[\"G1\"][:]); # shape: (1, z)\n",
    "    G2      = np.array(f[\"G2\"][:]); # shape: (1, z)\n",
    "    z       = np.array(f[\"z\"][:]);  # shape: (z,)\n",
    "\n",
    "# load background field\n",
    "with h5py.File(fpath+\"bg_field.h5\",\"r\") as f:\n",
    "    ρ0      = np.array(f[\"ρ0\"][:]); # shape: (z,)\n",
    "    \n",
    "# load state vector\n",
    "with h5py.File(fpath+\"state.h5\",\"r\") as f:\n",
    "    state   = np.array(f[\"state vector\"][:]); # shape: (k, v, t)\n",
    "    t       = np.array(f[\"time\"][:]);         # shape: (t,)\n",
    "    var     = np.array(f[\"variables\"][:]);    # shape: (v,1)"
   ]
  },
  {
   "cell_type": "markdown",
   "id": "bce4c55e-7b76-4966-a527-f9e1a04a0993",
   "metadata": {},
   "source": [
    "### Reconstruct specific wave length"
   ]
  },
  {
   "cell_type": "code",
   "execution_count": 4,
   "id": "5eaea303-afa1-418c-8b95-a73f4f1fd556",
   "metadata": {
    "execution": {
     "iopub.execute_input": "2025-08-28T06:23:13.296871Z",
     "iopub.status.busy": "2025-08-28T06:23:13.296766Z",
     "iopub.status.idle": "2025-08-28T06:23:19.901718Z",
     "shell.execute_reply": "2025-08-28T06:23:19.901320Z",
     "shell.execute_reply.started": "2025-08-28T06:23:13.296861Z"
    }
   },
   "outputs": [],
   "source": [
    "# target λ (units: km)\n",
    "λ    = 8640;\n",
    "kn   = 2*np.pi*4320/λ;          # corresponding non-dimensional wavenumber \n",
    "kidx = np.argmin(np.abs(k-kn)); # index for specific λ\n",
    "\n",
    "# limit domain of plotting\n",
    "lft_bnd = np.argmin(np.abs(x+4320000));\n",
    "rgt_bnd = np.argmin(np.abs(x-4320000));\n",
    "\n",
    "# reconstruct physical temperature and vertical motion \n",
    "# w_pc = np.einsum(\"vt,x->vxt\", state[kidx,:2,:] , inv_mat[:,kidx], optimize=True)[:,lft_bnd:rgt_bnd+1,:].real;\n",
    "t_pc = np.einsum(\"vt,x->vxt\", state[kidx,3:5,:], inv_mat[:,kidx], optimize=True)[:,lft_bnd:rgt_bnd+1,:].real;\n",
    "\n",
    "# construct vertical profile\n",
    "# w1 = outer_time_einsum(w_pc[0], G1) / ρ0[None,:,None];\n",
    "# w2 = outer_time_einsum(w_pc[1], G2) / ρ0[None,:,None];\n",
    "\n",
    "t1 = outer_time_einsum(t_pc[0], G1*(-0.0065+9.81/1004.5))/ ρ0[None,:,None];\n",
    "t2 = outer_time_einsum(t_pc[1], G2*(-0.0065+9.81/1004.5))/ ρ0[None,:,None];\n",
    "\n",
    "Temp_prof = (t1+t2).transpose(2,1,0);"
   ]
  },
  {
   "cell_type": "markdown",
   "id": "9aec6ddf-a623-40f3-b147-5644e8f4eb6b",
   "metadata": {},
   "source": [
    "### Plot the animation"
   ]
  },
  {
   "cell_type": "code",
   "execution_count": 5,
   "id": "e2b27626-23a1-4c8f-8e9e-e3f7e91334bf",
   "metadata": {
    "execution": {
     "iopub.execute_input": "2025-08-28T06:23:19.902410Z",
     "iopub.status.busy": "2025-08-28T06:23:19.902193Z",
     "iopub.status.idle": "2025-08-28T06:27:03.025959Z",
     "shell.execute_reply": "2025-08-28T06:27:03.025504Z",
     "shell.execute_reply.started": "2025-08-28T06:23:19.902400Z"
    }
   },
   "outputs": [],
   "source": [
    "from matplotlib.colors import Normalize\n",
    "\n",
    "# assume Temp_prof has shape (nt, nz, nx)\n",
    "temp32 = np.asarray(Temp_prof, dtype=np.float32, order=\"C\")  # cheap to move around\n",
    "\n",
    "vmin = np.nanmin(temp32); vmax = np.nanmax(temp32)\n",
    "norm = Normalize(vmin=vmin, vmax=vmax)\n",
    "\n",
    "fig, ax = plt.subplots(figsize=(16, 9))\n",
    "\n",
    "# extent maps array indices to your physical coords\n",
    "extent = [x[lft_bnd], x[rgt_bnd], z[0], z[-1]]\n",
    "im = ax.imshow(temp32[0], origin=\"lower\", extent=extent, norm=norm,\n",
    "               cmap=\"RdBu_r\", animated=True, aspect=\"auto\")\n",
    "ax.set_xlim(-4_000_000, 4_000_000)\n",
    "ax.set_ylim(0, 15_000)\n",
    "ax.set_xticks(np.linspace(-4_000_000, 4_000_000, 5), [\"-40\",\"-20\",\"0\",\"20\",\"40\"], fontsize=20)\n",
    "ax.set_yticks(np.linspace(2_000, 14_000, 7), [\"2\",\"4\",\"6\",\"8\",\"10\",\"12\",\"14\"], fontsize=20)\n",
    "ax.set_xlabel(\"X [ 100 km ]\", fontsize=24)\n",
    "ax.set_ylabel(\"Z [ km ]\", fontsize=24)\n",
    "ax.set_title(r\"$T^\\prime$ ($\\lambda$=8640km)\", fontsize=32)\n",
    "\n",
    "cbar = fig.colorbar(im, ax=ax, pad=0.02)\n",
    "cbar.set_label(\"T [K]\")\n",
    "\n",
    "time_txt = ax.text(0.02, 0.98, \"\", transform=ax.transAxes, va=\"top\", ha=\"left\",\n",
    "                   fontsize=20, animated=True)\n",
    "\n",
    "def init():\n",
    "    im.set_data(temp32[0])\n",
    "    time_txt.set_text(f\"t = {t[0]}\")\n",
    "    return (im, time_txt)\n",
    "\n",
    "def update(i):\n",
    "    im.set_data(temp32[i])               # very fast for AxesImage\n",
    "    time_txt.set_text(f\"t = {t[i]}\")\n",
    "    return (im, time_txt)\n",
    "\n",
    "ani = FuncAnimation(fig, update, frames=len(t), init_func=init, interval=50, blit=True)\n",
    "\n",
    "writer = FFMpegWriter(\n",
    "    fps=30,  # 50 → 30 reduces frames by 40% with little perceptual loss\n",
    "    codec=\"libx264\",\n",
    "    bitrate=1800,  # adjust as needed\n",
    "    extra_args=[\n",
    "        \"-preset\", \"veryfast\",     # speed ↑\n",
    "        \"-tune\", \"animation\",      # good default for line/heatmaps\n",
    "        \"-pix_fmt\", \"yuv420p\"      # broad compatibility\n",
    "    ],\n",
    ")\n",
    "\n",
    "ani.save(\"/home/b11209013/2025_Research/MSI/Fig/temp_prof.mp4\", dpi=100, writer=writer)\n",
    "plt.close(fig)\n"
   ]
  }
 ],
 "metadata": {
  "kernelspec": {
   "display_name": "Python 3 (ipykernel)",
   "language": "python",
   "name": "python3"
  },
  "language_info": {
   "codemirror_mode": {
    "name": "ipython",
    "version": 3
   },
   "file_extension": ".py",
   "mimetype": "text/x-python",
   "name": "python",
   "nbconvert_exporter": "python",
   "pygments_lexer": "ipython3",
   "version": "3.11.12"
  }
 },
 "nbformat": 4,
 "nbformat_minor": 5
}
