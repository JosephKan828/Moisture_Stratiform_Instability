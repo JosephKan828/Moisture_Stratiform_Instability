{
 "cells": [
  {
   "cell_type": "markdown",
   "id": "7f3e15fb",
   "metadata": {},
   "source": [
    "## Single-way wave solution"
   ]
  },
  {
   "cell_type": "markdown",
   "id": "999d2a05",
   "metadata": {},
   "source": [
    "### Using package"
   ]
  },
  {
   "cell_type": "code",
   "execution_count": 1,
   "id": "f6723ec7",
   "metadata": {},
   "outputs": [
    {
     "name": "stderr",
     "output_type": "stream",
     "text": [
      "\u001b[32m\u001b[1m  Activating\u001b[22m\u001b[39m project at `/work/b11209013/external/JuliaENV/atmo`\n"
     ]
    }
   ],
   "source": [
    "using Pkg; Pkg.activate(\"/work/b11209013/external/JuliaENV/atmo\");\n",
    "\n",
    "using HDF5\n",
    "using LinearAlgebra, Statistics"
   ]
  },
  {
   "cell_type": "markdown",
   "id": "11c72882",
   "metadata": {},
   "source": [
    "### Setting Parameters"
   ]
  },
  {
   "cell_type": "code",
   "execution_count": 2,
   "id": "14070892",
   "metadata": {},
   "outputs": [
    {
     "data": {
      "text/plain": [
       "ModelParams(1.0, 2.0, 1.0, 0.5, 0.3, 1.0, 0.0, 0.7, 4.0, 0.5, 0.08333333333333333, 0.1)"
      ]
     },
     "execution_count": 2,
     "metadata": {},
     "output_type": "execute_result"
    }
   ],
   "source": [
    "struct ModelParams\n",
    "    b1::Float64 \n",
    "    b2::Float64    \n",
    "    c1::Float64 \n",
    "    c2::Float64\n",
    "    m1::Float64 \n",
    "    m2::Float64\n",
    "    γ0::Float64 \n",
    "    γq::Float64\n",
    "    F ::Float64 \n",
    "    f ::Float64\n",
    "    τL::Float64 \n",
    "    ϵ ::Float64\n",
    "end\n",
    "\n",
    "param = ModelParams(1.0, 2.0, 1.0, 0.5, 0.3, 1.0, 0.0, 0.7, 4.0, 0.5, 1/12, 0.1)"
   ]
  },
  {
   "cell_type": "markdown",
   "id": "c888da30",
   "metadata": {},
   "source": [
    "### Functions"
   ]
  },
  {
   "cell_type": "code",
   "execution_count": 3,
   "id": "6cde8549",
   "metadata": {},
   "outputs": [
    {
     "data": {
      "text/plain": [
       "nonmodal (generic function with 1 method)"
      ]
     },
     "execution_count": 3,
     "metadata": {},
     "output_type": "execute_result"
    }
   ],
   "source": [
    "# coefficient matrix for dynamical system\n",
    "function coeff_matrix(\n",
    "        kn::Float64;\n",
    "        ϵ=param.ϵ  , b1=param.b1, b2=param.b2,\n",
    "        c1=param.c1, c2=param.c2, γq=param.γq,\n",
    "        γ0=param.γ0, m1=param.m1, m2=param.m2,\n",
    "        τL=param.τL, f=param.f  , F =param.F ,\n",
    ")\n",
    "    α ::ComplexF64 = -1.5*b2*γq - F*f*(im*kn*c1-ϵ) - 1.5*F*(1-f)*γq;\n",
    "    β ::ComplexF64 = -F*(1-f)*(im*kn*c2-ϵ);\n",
    "    γ ::ComplexF64 = (b2+F*(1-f))*γq;\n",
    "    δ ::ComplexF64 = -F*f - F*(1-f)*γ0 - (b1+b2*γ0);\n",
    "    \n",
    "    relax :: ComplexF64 = τL*(b1+b2*γ0);\n",
    "\n",
    "    mat :: Array{ComplexF64}= [\n",
    "        (im*kn*c1-ϵ) 0.0         0.0     1.0     ;\n",
    "        1.5*γq       (im*kn*c2-ϵ) -γq     γ0      ;\n",
    "        1.5*m2*γq    0.0         -m2*γq  m1+m2*γ0;\n",
    "        α/relax      β/relax     γ/relax δ/relax ; \n",
    "    ]\n",
    "\n",
    "    return mat\n",
    "end\n",
    "\n",
    "function modal(kn::Float64)\n",
    "    mat :: Array{ComplexF64} = coeff_matrix(kn);\n",
    "\n",
    "    growth_rate :: Array{Float64} = real.(eigvals(mat))\n",
    "\n",
    "    return maximum(growth_rate)\n",
    "end\n",
    "\n",
    "function nonmodal(kn::Float64)\n",
    "    mat :: Matrix{ComplexF64} = coeff_matrix(kn);\n",
    "\n",
    "    unit_vec :: Matrix{ComplexF64} = ones(ComplexF64, 4,1);\n",
    "    sys_mat  :: Matrix{ComplexF64} = exp(mat);\n",
    "    pred_vec :: Matrix{ComplexF64} = exp(mat)*unit_vec;\n",
    "\n",
    "    amp_factor :: Matrix{ComplexF64} = (pred_vec'*pred_vec) * inv(unit_vec'*unit_vec)\n",
    "\n",
    "    return real.(amp_factor[1,1])\n",
    "end"
   ]
  },
  {
   "cell_type": "markdown",
   "id": "46ec45fe",
   "metadata": {},
   "source": [
    "### Linear stability test"
   ]
  },
  {
   "cell_type": "code",
   "execution_count": 4,
   "id": "d268cb61",
   "metadata": {},
   "outputs": [],
   "source": [
    "λ :: Array{Float64} = collect(540:540:43200)\n",
    "k :: Array{Float64} = @. 2*π*4320.0 / λ;\n",
    "\n",
    "modal_stab    :: Array{Float64} = modal.(k);\n",
    "nonmodal_stab :: Array{Float64} = nonmodal.(k);"
   ]
  },
  {
   "cell_type": "markdown",
   "id": "0961e408",
   "metadata": {},
   "source": [
    "### Save the HDF5 file"
   ]
  },
  {
   "cell_type": "code",
   "execution_count": 5,
   "id": "02ccd800",
   "metadata": {},
   "outputs": [
    {
     "data": {
      "text/plain": [
       "\"None\""
      ]
     },
     "execution_count": 5,
     "metadata": {},
     "output_type": "execute_result"
    }
   ],
   "source": [
    "h5open(\"/home/b11209013/2025_Research/MSI/File/oneway_stability.h5\", \"w\") do f\n",
    "    write(f, \"nonmodal\", nonmodal_stab)\n",
    "    write(f, \"modal\", modal_stab)\n",
    "    write(f, \"kn\", k)\n",
    "\n",
    "    attributes(f[\"nonmodal\"])[\"standard_name\"] = \"nonmodal growth rate\"\n",
    "    attributes(f[\"modal\"])[\"standard_name\"] = \"modal growth rate\"\n",
    "    attributes(f[\"modal\"])[\"units\"] = \"1/day\"\n",
    "    attributes(f[\"kn\"])[\"standard_name\"] = \"angular wavenumber\"\n",
    "    attributes(f[\"kn\"])[\"units\"] = \"None\"\n",
    "end"
   ]
  }
 ],
 "metadata": {
  "kernelspec": {
   "display_name": "Julia 1.8.5",
   "language": "julia",
   "name": "julia-1.8"
  },
  "language_info": {
   "file_extension": ".jl",
   "mimetype": "application/julia",
   "name": "julia",
   "version": "1.8.5"
  }
 },
 "nbformat": 4,
 "nbformat_minor": 5
}
