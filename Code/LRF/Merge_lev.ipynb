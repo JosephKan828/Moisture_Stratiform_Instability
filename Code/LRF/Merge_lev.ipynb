{
 "cells": [
  {
   "cell_type": "markdown",
   "id": "4cd281a3",
   "metadata": {},
   "source": [
    "## Regress moisture"
   ]
  },
  {
   "cell_type": "markdown",
   "id": "0b86c705",
   "metadata": {},
   "source": [
    "### Import package"
   ]
  },
  {
   "cell_type": "code",
   "execution_count": 1,
   "id": "e848654c",
   "metadata": {},
   "outputs": [],
   "source": [
    "import os;\n",
    "import numpy as np;\n",
    "import xarray as xr;\n",
    "import pandas as pd;\n",
    "from glob import glob;\n",
    "from matplotlib import pyplot as plt;"
   ]
  },
  {
   "cell_type": "markdown",
   "id": "8a0f197d",
   "metadata": {},
   "source": [
    "### Load data"
   ]
  },
  {
   "cell_type": "code",
   "execution_count": 2,
   "id": "ced3a944",
   "metadata": {},
   "outputs": [
    {
     "name": "stdout",
     "output_type": "stream",
     "text": [
      "q_lev.nc done\n"
     ]
    }
   ],
   "source": [
    "ds = xr.open_mfdataset(\"/data92/b11209013/ERA5/File/q*.nc\", combine=\"by_coords\");\n",
    "ds = ds.sortby(\"plev\", ascending=False);\n",
    "\n",
    "new_time = pd.date_range(start=\"1979-01-01\", periods=len(ds.time), freq=\"1D\")\n",
    "ds = ds.assign_coords(time=new_time)\n",
    "\n",
    "ds[\"time\"].attrs.update({\n",
    "    \"standard_name\": \"time\",\n",
    "    \"long_name\": \"time\",\n",
    "    \"axis\": \"T\"\n",
    "})\n",
    "\n",
    "encoding = {v: {\"zlib\": True, \"complevel\": 4} for v in ds.data_vars}\n",
    "encoding[\"time\"] = {\n",
    "    \"units\": \"days since 1979-01-01 00:00:00\",\n",
    "    \"calendar\": \"proleptic_gregorian\"\n",
    "}\n",
    "\n",
    "ds = ds.sel(plev=['250','500','700','850','925','1000']);\n",
    "\n",
    "ds.to_netcdf(\n",
    "    \"/data92/b11209013/ERA5/File/q.nc\",\n",
    "    format=\"NETCDF4\",\n",
    "    engine=\"netcdf4\",\n",
    "    unlimited_dims=[\"time\"],\n",
    "    encoding=encoding\n",
    "    );\n",
    "print(\"q_lev.nc done\");"
   ]
  }
 ],
 "metadata": {
  "kernelspec": {
   "display_name": "atmo",
   "language": "python",
   "name": "python3"
  },
  "language_info": {
   "codemirror_mode": {
    "name": "ipython",
    "version": 3
   },
   "file_extension": ".py",
   "mimetype": "text/x-python",
   "name": "python",
   "nbconvert_exporter": "python",
   "pygments_lexer": "ipython3",
   "version": "3.11.12"
  }
 },
 "nbformat": 4,
 "nbformat_minor": 5
}
