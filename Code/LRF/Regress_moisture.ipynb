{
 "cells": [
  {
   "cell_type": "markdown",
   "id": "df81bb74",
   "metadata": {},
   "source": [
    "## Regress the profile against mid troposphere moisture"
   ]
  },
  {
   "cell_type": "markdown",
   "id": "8189cb2e",
   "metadata": {},
   "source": [
    "### Import package"
   ]
  },
  {
   "cell_type": "code",
   "execution_count": 1,
   "id": "63f75063",
   "metadata": {},
   "outputs": [],
   "source": [
    "import numpy as np;\n",
    "import xarray as xr;\n",
    "\n",
    "from metpy.calc import pressure_to_height_std\n",
    "from metpy.units import units\n",
    "from matplotlib import pyplot as plt;"
   ]
  },
  {
   "cell_type": "markdown",
   "id": "10746608",
   "metadata": {},
   "source": [
    "### Load data"
   ]
  },
  {
   "cell_type": "code",
   "execution_count": 2,
   "id": "c79bd1c0",
   "metadata": {},
   "outputs": [],
   "source": [
    "# file path\n",
    "fpath=\"/data92/b11209013/ERA5/File/q.nc\";\n",
    "\n",
    "# load data\n",
    "ds = xr.open_dataset(fpath);\n",
    "\n",
    "lev = ds[\"plev\"];\n",
    "q = ds[\"q\"].sel(lat=slice(-10,10), lon=slice(160,260));\n",
    "\n",
    "ds.close();"
   ]
  },
  {
   "cell_type": "markdown",
   "id": "1db3b5a2",
   "metadata": {},
   "source": [
    "### Find mean moisture profile"
   ]
  },
  {
   "cell_type": "code",
   "execution_count": 3,
   "id": "a39e1f82",
   "metadata": {},
   "outputs": [],
   "source": [
    "q_mean = q.mean(dim=[\"time\",\"lat\",\"lon\"], skipna=True);\n",
    "q_anom = q - q_mean;\n",
    "q500a  = q.sel(plev='500');\n",
    "\n",
    "cov    = xr.cov(q_anom, q500a, dim=\"time\");\n",
    "var500 = q500a.var(dim=\"time\");\n",
    "\n",
    "beta = cov / var500;"
   ]
  },
  {
   "cell_type": "code",
   "execution_count": 4,
   "id": "5b6e5dce",
   "metadata": {},
   "outputs": [],
   "source": [
    "mean_corr = np.array(beta.mean([\"lat\", \"lon\"]));\n",
    "\n",
    "z_std = np.array(pressure_to_height_std((lev.values).astype(int) * units.hPa)) *1000.0\n",
    "\n",
    "np.savetxt(\"/home/b11209013/2025_Research/MSI/File/mean_corr_moisture.txt\", mean_corr);"
   ]
  }
 ],
 "metadata": {
  "kernelspec": {
   "display_name": "atmo",
   "language": "python",
   "name": "python3"
  },
  "language_info": {
   "codemirror_mode": {
    "name": "ipython",
    "version": 3
   },
   "file_extension": ".py",
   "mimetype": "text/x-python",
   "name": "python",
   "nbconvert_exporter": "python",
   "pygments_lexer": "ipython3",
   "version": "3.11.12"
  }
 },
 "nbformat": 4,
 "nbformat_minor": 5
}
