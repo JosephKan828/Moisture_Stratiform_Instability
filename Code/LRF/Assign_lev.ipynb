{
 "cells": [
  {
   "cell_type": "markdown",
   "id": "4cd281a3",
   "metadata": {},
   "source": [
    "## Regress moisture"
   ]
  },
  {
   "cell_type": "markdown",
   "id": "0b86c705",
   "metadata": {},
   "source": [
    "### Import package"
   ]
  },
  {
   "cell_type": "code",
   "execution_count": 9,
   "id": "e848654c",
   "metadata": {},
   "outputs": [],
   "source": [
    "import numpy as np;\n",
    "import xarray as xr;\n",
    "from glob import glob;\n",
    "from matplotlib import pyplot as plt;"
   ]
  },
  {
   "cell_type": "markdown",
   "id": "8a0f197d",
   "metadata": {},
   "source": [
    "### Load data"
   ]
  },
  {
   "cell_type": "code",
   "execution_count": 10,
   "id": "747a728b",
   "metadata": {},
   "outputs": [
    {
     "name": "stdout",
     "output_type": "stream",
     "text": [
      "q250.nc done\n",
      "q500.nc done\n",
      "q700.nc done\n",
      "q850.nc done\n",
      "q925.nc done\n",
      "q1000.nc done\n"
     ]
    }
   ],
   "source": [
    "fpath = \"/data92/b11209013/ERA5/File/\"\n",
    "\n",
    "fcollect = glob(fpath+\"*.nc\")\n",
    "\n",
    "levs = [f.split(\".\")[-2].split(\"/\")[-1][1:] for f in fcollect]\n",
    "\n",
    "for l, lev in enumerate(levs):\n",
    "    ds = xr.open_dataset(fcollect[l])\n",
    "\n",
    "    ds = ds.expand_dims({\"plev\": [lev]})\n",
    "    ds = ds.assign_coords(\n",
    "        plev=(\"plev\", [lev],\n",
    "                {\"units\": \"Pa\", \"standard_name\": \"air_pressure\",\n",
    "                \"long_name\": \"pressure\", \"positive\": \"down\"})\n",
    "    )\n",
    "\n",
    "    ds.transpose(\"time\", \"plev\", \"lat\", \"lon\",...).to_netcdf(fpath+\"q\"+lev+\".nc\")\n",
    "    print(f\"q{lev}.nc done\")\n",
    "    ds.close()"
   ]
  }
 ],
 "metadata": {
  "kernelspec": {
   "display_name": "atmo",
   "language": "python",
   "name": "python3"
  },
  "language_info": {
   "codemirror_mode": {
    "name": "ipython",
    "version": 3
   },
   "file_extension": ".py",
   "mimetype": "text/x-python",
   "name": "python",
   "nbconvert_exporter": "python",
   "pygments_lexer": "ipython3",
   "version": "3.11.12"
  }
 },
 "nbformat": 4,
 "nbformat_minor": 5
}
