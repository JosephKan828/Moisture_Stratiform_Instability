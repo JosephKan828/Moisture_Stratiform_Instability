{
 "cells": [
  {
   "cell_type": "markdown",
   "id": "6a711876-3312-48b5-b9d3-b1287ab6c814",
   "metadata": {},
   "source": [
    "## Full version, Kuang 2008"
   ]
  },
  {
   "cell_type": "markdown",
   "id": "6df5668f-8e49-4bdd-93a2-1671a773ae9b",
   "metadata": {},
   "source": [
    "### Using package"
   ]
  },
  {
   "cell_type": "code",
   "execution_count": 1,
   "id": "54a7ad8c-acb4-47ad-9487-0bf337045443",
   "metadata": {
    "execution": {
     "iopub.execute_input": "2025-08-28T11:56:24.504",
     "iopub.status.busy": "2025-08-28T11:56:24.182",
     "iopub.status.idle": "2025-08-28T11:56:25.962",
     "shell.execute_reply": "2025-08-28T11:56:25.915"
    }
   },
   "outputs": [
    {
     "name": "stderr",
     "output_type": "stream",
     "text": [
      "\u001b[32m\u001b[1m  Activating\u001b[22m\u001b[39m project at `/work/b11209013/external/JuliaENV/atmo`\n"
     ]
    }
   ],
   "source": [
    "using Pkg; Pkg.activate(\"/work/b11209013/external/JuliaENV/atmo\");\n",
    "\n",
    "using HDF5;\n",
    "using FFTW, LinearAlgebra, Statistics;\n",
    "using LazyGrids;\n",
    "using Dates;\n",
    "using Base.Threads;\n",
    "\n",
    "BLAS.set_num_threads(12);"
   ]
  },
  {
   "cell_type": "markdown",
   "id": "933a04d5-cd9e-4586-a9b7-15b797f265a7",
   "metadata": {
    "jp-MarkdownHeadingCollapsed": true
   },
   "source": [
    "### Parameter Table"
   ]
  },
  {
   "cell_type": "code",
   "execution_count": 2,
   "id": "f0e9a036-1ddd-42a3-9947-8daa77343ed7",
   "metadata": {
    "execution": {
     "iopub.execute_input": "2025-08-28T11:56:25.963",
     "iopub.status.busy": "2025-08-28T11:56:25.962",
     "iopub.status.idle": "2025-08-28T11:56:25.974",
     "shell.execute_reply": "2025-08-28T11:56:25.974"
    }
   },
   "outputs": [],
   "source": [
    "struct ModelParams\n",
    "    a1::Float64 \n",
    "    a2::Float64\n",
    "    b1::Float64 \n",
    "    b2::Float64    \n",
    "    c1::Float64 \n",
    "    c2::Float64\n",
    "    d1::Float64\n",
    "    d2::Float64\n",
    "    m1::Float64 \n",
    "    m2::Float64\n",
    "    r0::Float64 \n",
    "    rq::Float64\n",
    "    F ::Float64 \n",
    "    f ::Float64\n",
    "    τL::Float64 \n",
    "    ϵ ::Float64    \n",
    "end\n",
    "\n",
    "param = ModelParams(1.4, 0.0, 1.0, 2.0, 1.0, 0.5, 1.1, -1.0, 0.3, 1.0, 1.0, 0.7, 4.0, 0.5, 1/12, 0.1)\n",
    "A     = 1.0 - 2.0*param.f + (param.b2-param.b1)/param.F;\n",
    "B     = 1.0 + (param.b2+param.b1)/param.F - A*param.r0;\n",
    "\n",
    "const Γ ::Float64 = 6.5/1000.0; \n",
    "const Rd::Float64 = 287.5;\n",
    "const Cp::Float64 = 1004.5; \n",
    "const g ::Float64 = 9.81;"
   ]
  },
  {
   "cell_type": "markdown",
   "id": "58836386-c077-417a-8771-cdcb899009ab",
   "metadata": {
    "jp-MarkdownHeadingCollapsed": true
   },
   "source": [
    "### Functions"
   ]
  },
  {
   "cell_type": "code",
   "execution_count": null,
   "id": "bc99720f-3895-41a8-9bd4-5eddd4799834",
   "metadata": {
    "execution": {
     "iopub.execute_input": "2025-08-28T11:56:25.974",
     "iopub.status.busy": "2025-08-28T11:56:25.974",
     "iopub.status.idle": "2025-08-28T11:56:26.313",
     "shell.execute_reply": "2025-08-28T11:56:26.313"
    }
   },
   "outputs": [
    {
     "data": {
      "text/plain": [
       "integration (generic function with 1 method)"
      ]
     },
     "execution_count": 3,
     "metadata": {},
     "output_type": "execute_result"
    }
   ],
   "source": [
    "# coefficient matrix for dynamical system\n",
    "function coeff_matrix(\n",
    "        kn::Float64;\n",
    "        ϵ=param.ϵ  , c1=param.c1, c2=param.c2,\n",
    "        rq=param.rq, r0=param.r0, a1=param.a1,\n",
    "        a2=param.a2, d1=param.d1, d2=param.d2,\n",
    "        τL=param.τL, f=param.f  , A=A        , B=B\n",
    ")\n",
    "    α ::ComplexF64 = 1.5*rq*(d1-d2);\n",
    "    β ::ComplexF64 = -rq*(d1-d2);\n",
    "    γ ::ComplexF64 = -(d1*(1+r0)+d2*(1-r0));\n",
    "    \n",
    "    mat :: Array{ComplexF64}= [\n",
    "        -ϵ 0.0 (kn*c1)^2.0 0.0 0.0 0.0;\n",
    "        0.0 -ϵ 0.0 (kn*c2)^2.0 0.0 0.0;\n",
    "        -1.0 0.0 -1.5*rq 0.0 rq 1+r0;\n",
    "        0.0 -1.0 1.5*rq 0.0 -rq 1-r0;\n",
    "        a1 a2 α 0.0 β γ;\n",
    "        f/B/τL (1-f)/B/τL -1.5*A*rq/B/τL 0.0 A*rq/B/τL -1.0/τL;\n",
    "    ]\n",
    "\n",
    "    return mat\n",
    "end\n",
    "\n",
    "# integration function\n",
    "function integration(state, t, k, init, coeff_mat)\n",
    "    Nt,Nv,Nk = size(state); # acquire number of time, variable, and wavenumber\n",
    "    Δt       = t[2]-t[1]\n",
    "    \n",
    "    @threads for j in eachindex(k)\n",
    "        A = coeff_matrix(k[j]) # coefficient matrix for each wavenumber\n",
    "        Φ = exp(Δt*A) # matrix exponential for the coefficient matrix with Δt\n",
    "        \n",
    "        state[1,:,j] .= init[:,j]; # set initial condition as the first time step\n",
    "        for i in 2:Nt\n",
    "            @views state[i,:,j] = Φ*state[i-1,:,j]\n",
    "        end\n",
    "    end\n",
    "    return state\n",
    "end"
   ]
  },
  {
   "cell_type": "markdown",
   "id": "a8bd9a2b-ec60-445c-b00e-bb2bdac4a98b",
   "metadata": {},
   "source": [
    "### Domain setting"
   ]
  },
  {
   "cell_type": "code",
   "execution_count": 4,
   "id": "42e76845-ea61-4d2e-aba6-f3a54e020de4",
   "metadata": {
    "execution": {
     "iopub.execute_input": "2025-08-28T11:56:26.313",
     "iopub.status.busy": "2025-08-28T11:56:26.313",
     "iopub.status.idle": "2025-08-28T11:56:26.477",
     "shell.execute_reply": "2025-08-28T11:56:26.477"
    }
   },
   "outputs": [],
   "source": [
    "# Horizontal spatial setting\n",
    "Δx       ::Float64         = 1e3;                # Horizontal space interval: 1 km\n",
    "Lx       ::Float64         = 4e7;                # left/right boundary of horizontal space.\n",
    "x        ::Vector{Float64} = collect(-Lx:Δx:Lx); # x-axis\n",
    "Nx       ::Int64           = length(x);          # length of x-dimension\n",
    "x_scaling::Float64         = 4_320_000.0;        # scaling factor for x\n",
    "\n",
    "lft_idx  :: Int64 = argmin(abs.(x.+x_scaling));   # left boundary index for our interest\n",
    "rgt_idx  :: Int64 = argmin(abs.(x.+x_scaling));   # right boundary index for our interest\n",
    "\n",
    "# vertical spatial setting\n",
    "Δz       ::Float64         = 1e2;                # vertical space interval\n",
    "Lz       ::Float64         = 14e3;               # Depth of troposphere\n",
    "z        ::Vector{Float64} = collect(0.0:Δz:Lz); # z-axis\n",
    "Nz       ::Int64           = length(z);          # Number of vertical coordinate\n",
    "\n",
    "# Temporal setting\n",
    "Δt ::Float64         = 1e-1;              # Time interval: 0.1 day\n",
    "Lt ::Float64         = 1e2;               # simulation duration: 100 days\n",
    "t  ::Vector{Float64} = collect(0.0:Δt:Lt) # time axis\n",
    "Nt ::Int64           = length(t);         # length of time "
   ]
  },
  {
   "cell_type": "markdown",
   "id": "409cfd9c-400d-4117-b969-456f62c78487",
   "metadata": {},
   "source": [
    "### Background setting"
   ]
  },
  {
   "cell_type": "code",
   "execution_count": 5,
   "id": "e7b8326a-5a56-45e7-88b6-29309de38907",
   "metadata": {
    "execution": {
     "iopub.execute_input": "2025-08-28T11:56:26.478",
     "iopub.status.busy": "2025-08-28T11:56:26.478",
     "iopub.status.idle": "2025-08-28T11:56:26.945",
     "shell.execute_reply": "2025-08-28T11:56:26.945"
    }
   },
   "outputs": [],
   "source": [
    "# Vertical modes\n",
    "G1 :: Matrix{Float64} = reshape(π/2*sin.(π*z/Lz), Nz, 1);  # first vertical mode\n",
    "G2 :: Matrix{Float64} = reshape(π/2*sin.(2π*z/Lz), Nz, 1); # second vertical mode\n",
    "\n",
    "# temperature profile (units: K)\n",
    "T0 :: Vector{Float64} = @. 300.0 - Γ*z;\n",
    "\n",
    "# pressure profile (units: Pa)\n",
    "p0 :: Vector{Float64} = @. 101325*(1.0 - Γ/300*z)^(g/Rd/Γ);\n",
    "\n",
    "# density profile (units: kg/m^3)\n",
    "ρ0 :: Vector{Float64} = @. p0 / Rd / T0;"
   ]
  },
  {
   "cell_type": "markdown",
   "id": "c618e2da-8bdd-46b8-9694-f32da9ddb45e",
   "metadata": {},
   "source": [
    "### initial condition"
   ]
  },
  {
   "cell_type": "code",
   "execution_count": 6,
   "id": "5a4b36f3-e45d-48dd-9cd7-492dca2b2717",
   "metadata": {
    "execution": {
     "iopub.execute_input": "2025-08-28T11:56:26.945",
     "iopub.status.busy": "2025-08-28T11:56:26.945",
     "iopub.status.idle": "2025-08-28T11:56:27.167",
     "shell.execute_reply": "2025-08-28T11:56:27.167"
    }
   },
   "outputs": [],
   "source": [
    "λ ::Vector{Float64} = collect(540:540:40000); # λ from 540 km ~ 40000 km\n",
    "k ::Vector{Float64} = 2π*4320.0./λ;           # wavenumber is in angular and non-dimensional\n",
    "Nk::Int64           = length(k);\n",
    "# Initial state vector\n",
    "init :: Matrix{ComplexF64} = randn(6, length(k))*0.1;\n",
    "## initial_state_vec: row1: w1; row2: w2; row3: T1; row4: T2; row5: q; row6: L;"
   ]
  },
  {
   "cell_type": "markdown",
   "id": "8d81e453-f5eb-4cee-9877-7c621deeb945",
   "metadata": {},
   "source": [
    "### Inverse DFT matrix"
   ]
  },
  {
   "cell_type": "code",
   "execution_count": 7,
   "id": "a9db0bf2-46e1-45e5-b27f-c99a8cad7eec",
   "metadata": {
    "execution": {
     "iopub.execute_input": "2025-08-28T11:56:27.167",
     "iopub.status.busy": "2025-08-28T11:56:27.167",
     "iopub.status.idle": "2025-08-28T11:56:27.495",
     "shell.execute_reply": "2025-08-28T11:56:27.494"
    }
   },
   "outputs": [],
   "source": [
    "inv_mat ::Matrix{ComplexF64} = zeros(length(k), Nx);\n",
    "\n",
    "@inbounds for (i, kj) in enumerate(k)\n",
    "    inv_mat[i,:] = @. exp(im*kj*x/x_scaling)\n",
    "end ;"
   ]
  },
  {
   "cell_type": "markdown",
   "id": "5b5bb289-cd8c-4baf-bc9b-6ca43dfb0104",
   "metadata": {},
   "source": [
    "### Integration"
   ]
  },
  {
   "cell_type": "code",
   "execution_count": 8,
   "id": "01b79901-e0cf-4640-abbc-043d5597cbdf",
   "metadata": {
    "execution": {
     "iopub.execute_input": "2025-08-28T11:56:27.495",
     "iopub.status.busy": "2025-08-28T11:56:27.495",
     "iopub.status.idle": "2025-08-28T11:56:29.617",
     "shell.execute_reply": "2025-08-28T11:56:29.617"
    }
   },
   "outputs": [],
   "source": [
    "# preallocate state vector\n",
    "state_vec ::Array{ComplexF64} = zeros(Nt,6,length(k));\n",
    "\n",
    "state_vec = integration(state_vec, t, k, init, coeff_matrix\n",
    ");"
   ]
  },
  {
   "cell_type": "markdown",
   "id": "174e203f-9d8d-4140-9a13-9745e50ded68",
   "metadata": {},
   "source": [
    "### Save files"
   ]
  },
  {
   "cell_type": "code",
   "execution_count": 9,
   "id": "a5466881-b719-464d-a886-fa00a53366ed",
   "metadata": {
    "execution": {
     "iopub.execute_input": "2025-08-28T11:56:29.617",
     "iopub.status.busy": "2025-08-28T11:56:29.617",
     "iopub.status.idle": "2025-08-28T11:56:32.022",
     "shell.execute_reply": "2025-08-28T11:56:32.022"
    }
   },
   "outputs": [
    {
     "data": {
      "text/plain": [
       "\"temperature\""
      ]
     },
     "execution_count": 9,
     "metadata": {},
     "output_type": "execute_result"
    }
   ],
   "source": [
    "fpath::String = \"/home/b11209013/2025_Research/MSI/File/\";\n",
    "\n",
    "# save state vector\n",
    "h5open(fpath*\"state.h5\",\"w\") do f\n",
    "    write(f, \"state vector\", state_vec)\n",
    "    write(f, \"time\", t)\n",
    "    write(f, \"wavenumber\", k)\n",
    "    write(f, \"variables\", [\"w1\" \"w2\" \"T1\" \"T2\" \"q\" \"L\"])\n",
    "\n",
    "    attributes(f[\"time\"])[\"units\"] = \"day\"\n",
    "    attributes(f[\"wavenumber\"])[\"units\"] = \"None\"\n",
    "end\n",
    "\n",
    "# save inverse matrix\n",
    "h5open(fpath*\"inv_mat.h5\",\"w\") do f\n",
    "    write(f, \"inverse matrix\", inv_mat)\n",
    "    write(f, \"wavenumber\", k)\n",
    "    write(f, \"x\", x)\n",
    "\n",
    "    attributes(f[\"x\"])[\"units\"] = \"m\"\n",
    "    attributes(f[\"wavenumber\"])[\"units\"] = \"None\"\n",
    "end\n",
    "\n",
    "# save vertical mode\n",
    "h5open(fpath*\"vertical_mode.h5\",\"w\") do f\n",
    "    write(f, \"G1\", G1)\n",
    "    write(f, \"G2\", G2)\n",
    "    write(f, \"z\", z)\n",
    "\n",
    "    attributes(f[\"z\"])[\"units\"] = \"m\"\n",
    "    attributes(f[\"z\"])[\"standard_name\"] = \"z-axis\"\n",
    "\n",
    "    attributes(f[\"G1\"])[\"standard_name\"] = \"1st vertical mode\"\n",
    "    attributes(f[\"G2\"])[\"standard_name\"] = \"2nd vertical mode\"\n",
    "end\n",
    "\n",
    "# save background field\n",
    "h5open(fpath*\"bg_field.h5\",\"w\") do f\n",
    "    write(f, \"ρ0\", ρ0)\n",
    "    write(f, \"p0\", p0)\n",
    "    write(f, \"T0\", T0)\n",
    "    write(f, \"z\", z)\n",
    "\n",
    "    attributes(f[\"ρ0\"])[\"units\"] = \"kg m^-3\"\n",
    "    attributes(f[\"ρ0\"])[\"standard_name\"] = \"density\"\n",
    "\n",
    "    attributes(f[\"p0\"])[\"units\"] = \"Pa\"\n",
    "    attributes(f[\"p0\"])[\"standard_name\"] = \"pressure\"\n",
    "\n",
    "    attributes(f[\"T0\"])[\"units\"] = \"K\"\n",
    "    attributes(f[\"T0\"])[\"standard_name\"] = \"temperature\"\n",
    "end"
   ]
  }
 ],
 "metadata": {
  "kernelspec": {
   "display_name": "Julia 1.8.5",
   "language": "julia",
   "name": "julia-1.8"
  },
  "language_info": {
   "file_extension": ".jl",
   "mimetype": "application/julia",
   "name": "julia",
   "version": "1.8.5"
  }
 },
 "nbformat": 4,
 "nbformat_minor": 5
}
