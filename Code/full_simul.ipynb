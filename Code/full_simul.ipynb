{
 "cells": [
  {
   "cell_type": "markdown",
   "id": "afc525ab",
   "metadata": {},
   "source": [
    "## Simulation of Full version of Kuang's model"
   ]
  },
  {
   "cell_type": "markdown",
   "id": "f8bb8a3f",
   "metadata": {},
   "source": [
    "### Using package"
   ]
  },
  {
   "cell_type": "code",
   "execution_count": 1,
   "id": "21ea708b",
   "metadata": {},
   "outputs": [
    {
     "name": "stderr",
     "output_type": "stream",
     "text": [
      "\u001b[32m\u001b[1m  Activating\u001b[22m\u001b[39m project at `/work/b11209013/external/JuliaENV/atmo`\n"
     ]
    }
   ],
   "source": [
    "using Pkg;\n",
    "Pkg.activate(\"/work/b11209013/external/JuliaENV/atmo/\");\n",
    "\n",
    "using Plots, Measures; gr();\n",
    "using FFTW, LinearAlgebra, Statistics;\n",
    "using LazyGrids;\n",
    "\n",
    "BLAS.set_num_threads(1)\n",
    "\n",
    "default(\n",
    "    size=(1600,900),\n",
    "    dpi=100,\n",
    "    bottom_margin=10mm,\n",
    "    left_margin=10mm,\n",
    "    top_margin=10mm,\n",
    "    right_margin=10mm,\n",
    "    titlefont=font(32,\"times\"),\n",
    "    guidefont=font(28,\"times\"),\n",
    "    tickfont=font(24,\"times\"),\n",
    "    legendfont=font(18,\"times\")\n",
    ")"
   ]
  },
  {
   "cell_type": "markdown",
   "id": "8fb6e8bf",
   "metadata": {},
   "source": [
    "### Functions"
   ]
  },
  {
   "cell_type": "markdown",
   "id": "ed655f68",
   "metadata": {},
   "source": [
    "#### System Matrix"
   ]
  },
  {
   "cell_type": "code",
   "execution_count": 2,
   "id": "6d03e366",
   "metadata": {},
   "outputs": [
    {
     "data": {
      "text/plain": [
       "sys_matrix (generic function with 1 method)"
      ]
     },
     "metadata": {},
     "output_type": "display_data"
    }
   ],
   "source": [
    "function sys_matrix(\n",
    "    k :: Float64;\n",
    "    ϵ=ϵ, c1=c1, c2=c2,\n",
    "    a1=a1, a2=a2, d1=d1, d2=d2, rq=rq, r0=r0,\n",
    "    A=A, B=B, f=f, τL=τL\n",
    "    )\n",
    "\n",
    "    α :: ComplexF64 = 1.5*rq*(d1+d2);\n",
    "    β :: ComplexF64 = -rq*(d1-d2);\n",
    "    γ :: ComplexF64 = -1*((d1-d2)*r0 + (d1+d2));\n",
    "\n",
    "    mat :: Matrix{ComplexF64} = [\n",
    "    -ϵ 0.0 (c1*k)^2 0.0 0.0 0.0;\n",
    "    0.0 -ϵ 0.0 (c2*k)^2 0.0 0.0;\n",
    "    -1.0 0.0 -1.5*rq 0.0 rq 1+r0;\n",
    "    0.0 -1.0 1.5*rq 0.0 -rq 1-r0;\n",
    "    a1 a2 α 0.0 β γ;\n",
    "    f/B/τL (1-f)/B/τL -1.5*A*rq/B/τL 0.0 A*rq/B/τL -1.0/τL\n",
    "                                ];\n",
    "    return mat\n",
    "end"
   ]
  },
  {
   "cell_type": "markdown",
   "id": "bcf8b6e6",
   "metadata": {},
   "source": [
    "### Set constant"
   ]
  },
  {
   "cell_type": "code",
   "execution_count": 3,
   "id": "0a57ff67",
   "metadata": {},
   "outputs": [],
   "source": [
    "const b1 :: Float64 = 1.0;\n",
    "const b2 :: Float64 = 2.0;\n",
    "\n",
    "const a1 :: Float64 = 1.4;\n",
    "const a2 :: Float64 = 0.0;\n",
    "\n",
    "const d1 :: Float64 = 1.1;\n",
    "const d2 :: Float64 = -1.0;\n",
    "\n",
    "const m1 :: Float64 = 0.3;\n",
    "const m2 :: Float64 = 1.0;\n",
    "\n",
    "const r0 :: Float64 = 1.0;\n",
    "const rq :: Float64 = 0.7;\n",
    "\n",
    "const F  :: Float64 = 4.0;\n",
    "const f  :: Float64 = 0.5;\n",
    "\n",
    "const τL :: Float64 = 1/12;\n",
    "const c1 :: Float64 = 1.0;\n",
    "const c2 :: Float64 = 0.5;\n",
    "\n",
    "const ϵ  :: Float64 = 0.1;\n",
    "\n",
    "const Γ  :: Float64 = 6.5/1000.0;\n",
    "\n",
    "const Rd :: Float64 = 287.5;\n",
    "const Cp :: Float64 = 1004.5;\n",
    "const g  :: Float64 = 9.81;\n",
    "\n",
    "const A  :: Float64 = 1.0 - 2.0*f + (b2-b1)/F;\n",
    "const B  :: Float64 = 1.0 + (b2+b1)/F - A*r0;"
   ]
  },
  {
   "cell_type": "markdown",
   "id": "5c961d8f",
   "metadata": {},
   "source": [
    "### Configuring domain and wavenumber"
   ]
  },
  {
   "cell_type": "code",
   "execution_count": 4,
   "id": "d30a23dc",
   "metadata": {},
   "outputs": [],
   "source": [
    "# spatial domain\n",
    "## Horizontal\n",
    "Δx       :: Float64         = 1e3; # spatial interval: 1 km;\n",
    "Lx       :: Float64         = 4e7; # Maximum length: 40000 km;\n",
    "x        :: Vector{Float64} = collect(-Lx:Δx:Lx);\n",
    "x_nondim :: Vector{Float64} = x ./ 4320000;\n",
    "Nx       :: Int64           = length(x); # length of x-domain (80001,);\n",
    "\n",
    "## Vertical\n",
    "Δz :: Float64         = 1e2;  # Vertical spacing: 100 m;\n",
    "Lz :: Float64         = 15e3; # Depth of troposphere;\n",
    "z  :: Vector{Float64} = collect(0.0:Δz:Lz);\n",
    "Nz :: Int64           = length(z);\n",
    "\n",
    "## Vertical modes\n",
    "# G_j(z) = π/2 sin(jπz/H_T), where j=1,2\n",
    "G1 :: Matrix{Float64} = reshape(π/2*sin.(π*z/Lz), Nz, 1); # first vertical mode\n",
    "G2 :: Matrix{Float64} = reshape(π/2*sin.(2π*z/Lz), Nz, 1);\n",
    "\n",
    "# temporal domain\n",
    "Δt :: Float64         = 1e-1; # Time interval: 0.1 day;\n",
    "Lt :: Float64         = 1e2; # Final time stamp: 100 days;\n",
    "t  :: Vector{Float64} = collect(0.0:Δt:Lt);\n",
    "Nt :: Int64           = length(t);\n",
    "\n",
    "# wavenumber setting\n",
    "λ  :: Vector{Float64} = collect(540:540:40000);\n",
    "kn :: Vector{Float64} = 2*π*4320.0./λ;"
   ]
  },
  {
   "cell_type": "markdown",
   "id": "2443117a",
   "metadata": {},
   "source": [
    "### Setting Initial condition"
   ]
  },
  {
   "cell_type": "code",
   "execution_count": 5,
   "id": "3fe81fae",
   "metadata": {},
   "outputs": [],
   "source": [
    "# Initial field in frequency domain\n",
    "initial_state_vec :: Matrix{ComplexF64} = randn(6, length(kn))*0.1;\n",
    "## initial_state_vec: row1: w1; row2: w2; row3: T1; row4: T2; row5: q; row6: L;\n",
    "\n",
    "# inverse matrix\n",
    "exp_mat :: Matrix{ComplexF64} = zeros(length(kn), Nx);\n",
    "\n",
    "for (i, kj) in enumerate(kn)\n",
    "    exp_mat[i,:] = @. exp(im*kj*x_nondim)\n",
    "end ;"
   ]
  },
  {
   "cell_type": "markdown",
   "id": "8ee7315f",
   "metadata": {},
   "source": [
    "### Simulation\n"
   ]
  },
  {
   "cell_type": "code",
   "execution_count": 6,
   "id": "9c40f752",
   "metadata": {},
   "outputs": [],
   "source": [
    "# Compute in frequency domain\n",
    "state_vec :: Array{ComplexF64,3} = zeros(Nt, 6, length(kn));\n",
    "\n",
    "for (j, kj) in enumerate(kn)\n",
    "    mat :: Matrix{ComplexF64} = sys_matrix(kj);\n",
    "\n",
    "    for (i, ti) in enumerate(t)\n",
    "        state_vec[i,:,j] = exp(mat.*ti) * reshape(initial_state_vec[:,j],6,1);\n",
    "    end\n",
    "end\n",
    "\n",
    "# choose specific Wavenumber\n",
    "idx_8640 :: Int64 = argmin(abs.(kn .- 2*π*4320.0/8640.0));\n",
    "\n",
    "final_choose :: Array{ComplexF64,3} = zeros(size(state_vec));\n",
    "final_choose[:,:,idx_8640] = state_vec[:,:,idx_8640];\n",
    "\n",
    "# reconstruct\n",
    "recon :: Array{Float64,3} = zeros(Nt,6,Nx);\n",
    "\n",
    "for i in 1:Nt\n",
    "    recon[i,:,:] = real.(final_choose[i,:,:]*exp_mat);\n",
    "end"
   ]
  },
  {
   "cell_type": "markdown",
   "id": "7def40e4",
   "metadata": {},
   "source": [
    "### Plot out animation"
   ]
  },
  {
   "cell_type": "code",
   "execution_count": null,
   "id": "a0a94fc5",
   "metadata": {},
   "outputs": [],
   "source": [
    "lft_bnd :: Int64 = argmin(abs.(x.+4320000));\n",
    "rgt_bnd :: Int64 = argmin(abs.(x.-4320000));\n",
    "\n",
    "temp_prof :: Array{Float64,3} = zeros(Nt, Nz, length(x[lft_bnd:rgt_bnd]));\n",
    "\n",
    "for i in 1:Nt\n",
    "    tot_prof = G1*reshape(recon[i,3,:],1,Nx) .+ G2*reshape(recon[i,4,:],1,Nx)\n",
    "\n",
    "    temp_prof[i,:,:] = tot_prof[:,lft_bnd:rgt_bnd]\n",
    "end\n",
    "\n",
    "vmin, vmax = extrema(temp_prof)\n",
    "\n",
    "anim = @animate for (t, A) in enumerate(eachslice(temp_prof; dims=1))  # A is Nz×Nx at time t\n",
    "    heatmap(x[lft_bnd:rgt_bnd], z, A;                 # transpose so x runs horizontally\n",
    "        xlabel = \"x\", ylabel = \"z\",\n",
    "        title  = \"t = $t / $Nt\",\n",
    "        clims  = (vmin, vmax),\n",
    "        colorbar = true, framestyle = :box)\n",
    "end\n",
    "\n",
    "gif(anim, \"/home/b11209013/2025_Research/MSI/Fig/temp_prof.gif\"; fps = 50)"
   ]
  }
 ],
 "metadata": {
  "kernelspec": {
   "display_name": "Julia 1.8.5",
   "language": "julia",
   "name": "julia-1.8"
  },
  "language_info": {
   "file_extension": ".jl",
   "mimetype": "application/julia",
   "name": "julia",
   "version": "1.8.5"
  }
 },
 "nbformat": 4,
 "nbformat_minor": 5
}
